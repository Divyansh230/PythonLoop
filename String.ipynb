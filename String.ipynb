{
 "cells": [
  {
   "cell_type": "code",
   "execution_count": 1,
   "metadata": {},
   "outputs": [
    {
     "name": "stdout",
     "output_type": "stream",
     "text": [
      "12\n"
     ]
    }
   ],
   "source": [
    "s=input(\"Enter String\")\n",
    "print(len(s))"
   ]
  },
  {
   "cell_type": "code",
   "execution_count": 2,
   "metadata": {},
   "outputs": [
    {
     "name": "stdout",
     "output_type": "stream",
     "text": [
      "Jai Shri Ram\n"
     ]
    }
   ],
   "source": [
    "s=input(\"Enter a String\")\n",
    "y=s\n",
    "print(y)"
   ]
  },
  {
   "cell_type": "code",
   "execution_count": 3,
   "metadata": {},
   "outputs": [
    {
     "name": "stdout",
     "output_type": "stream",
     "text": [
      "Jai Shri RamJai raghvar Ram\n"
     ]
    }
   ],
   "source": [
    "s=input(\"Enter a String\")\n",
    "st=input(\"Enter other string\")\n",
    "y=s+st\n",
    "print(y)"
   ]
  },
  {
   "cell_type": "code",
   "execution_count": 5,
   "metadata": {},
   "outputs": [
    {
     "name": "stdout",
     "output_type": "stream",
     "text": [
      "1\n"
     ]
    }
   ],
   "source": [
    "s1=input(\"Enter String 1\")\n",
    "s2=input(\"Enter other String\")\n",
    "if s1==s2:\n",
    "    print(0)\n",
    "elif s1>s2:\n",
    "    print(1)\n",
    "else:\n",
    "    print(-1)"
   ]
  },
  {
   "cell_type": "code",
   "execution_count": 8,
   "metadata": {},
   "outputs": [
    {
     "name": "stdout",
     "output_type": "stream",
     "text": [
      "DIVYANSH\n"
     ]
    }
   ],
   "source": [
    "s=input(\"Enter a Name:\")\n",
    "print(s.upper())"
   ]
  },
  {
   "cell_type": "code",
   "execution_count": 9,
   "metadata": {},
   "outputs": [
    {
     "name": "stdout",
     "output_type": "stream",
     "text": [
      "divyansh\n"
     ]
    }
   ],
   "source": [
    "s=input(\"Enter Name:\")\n",
    "print(s.lower())"
   ]
  },
  {
   "cell_type": "code",
   "execution_count": 13,
   "metadata": {},
   "outputs": [
    {
     "name": "stdout",
     "output_type": "stream",
     "text": [
      "ibkibkbLJBKNLNlnlhnln\n"
     ]
    }
   ],
   "source": [
    "s=input(\"Enter Your Name:\")\n",
    "print(s.swapcase())"
   ]
  },
  {
   "cell_type": "code",
   "execution_count": 17,
   "metadata": {},
   "outputs": [
    {
     "name": "stdout",
     "output_type": "stream",
     "text": [
      "No of alphabet is  10 \n",
      "No of Numerics is 14 \n",
      "No of specail Character is 14\n"
     ]
    }
   ],
   "source": [
    "s=input(\"Enter a String\")\n",
    "c1=0\n",
    "c2=0\n",
    "c3=0\n",
    "for i in s:\n",
    "    if i.isalpha():\n",
    "        c1+=1\n",
    "    elif i.isnumeric():\n",
    "        c2+=1\n",
    "    else:\n",
    "        c3+=1\n",
    "print(\"No of alphabet is \",c1,\"\\nNo of Numerics is\",c2,\"\\nNo of specail Character is\",c2)"
   ]
  },
  {
   "cell_type": "code",
   "execution_count": 18,
   "metadata": {},
   "outputs": [
    {
     "name": "stdout",
     "output_type": "stream",
     "text": [
      "No. of the Vowel 2 \n",
      "No. of the consonat 6\n"
     ]
    }
   ],
   "source": [
    "s=input(\"Enter String:\")\n",
    "v=0\n",
    "for i in s:\n",
    "    if \"aeiouAEIOU\".find(i)!=-1:\n",
    "        v+=1\n",
    "print(\"No. of the Vowel\",v,\"\\nNo. of the consonat\",len(s)-v)"
   ]
  },
  {
   "cell_type": "code",
   "execution_count": 19,
   "metadata": {},
   "outputs": [
    {
     "name": "stdout",
     "output_type": "stream",
     "text": [
      "3\n"
     ]
    }
   ],
   "source": [
    "s=input(\"Enter a Sentence: \")\n",
    "s=s.split(' ')\n",
    "print(len(s))"
   ]
  },
  {
   "cell_type": "code",
   "execution_count": 20,
   "metadata": {},
   "outputs": [
    {
     "name": "stdout",
     "output_type": "stream",
     "text": [
      "hsnayviD\n"
     ]
    }
   ],
   "source": [
    "s=input(\"Enter String:\")\n",
    "s1=''\n",
    "for i in range(len(s)-1,-1,-1):\n",
    "    s1+=s[i]\n",
    "print(s1)"
   ]
  },
  {
   "cell_type": "code",
   "execution_count": 27,
   "metadata": {},
   "outputs": [
    {
     "name": "stdout",
     "output_type": "stream",
     "text": [
      "Palindrome\n"
     ]
    }
   ],
   "source": [
    "s=input(\"Enter a String: \")\n",
    "s2=''\n",
    "for i in range(len(s)-1,-1,-1):\n",
    "    s2+=s[i]\n",
    "if(s==s2):\n",
    "    print(\"Palindrome\")\n",
    "else:\n",
    "    print(\"Not Palindrome\")"
   ]
  },
  {
   "cell_type": "code",
   "execution_count": 28,
   "metadata": {},
   "outputs": [
    {
     "name": "stdout",
     "output_type": "stream",
     "text": [
      "maR irhS iaJ "
     ]
    }
   ],
   "source": [
    "s=input(\"Enter a String:\")\n",
    "s=s.split(' ')\n",
    "for i in s:\n",
    "    x=''\n",
    "    for j in range(len(i)-1,-1,-1):\n",
    "        x+=i[j]\n",
    "    print(x,end=' ')"
   ]
  },
  {
   "cell_type": "markdown",
   "metadata": {},
   "source": []
  },
  {
   "cell_type": "code",
   "execution_count": 29,
   "metadata": {},
   "outputs": [
    {
     "name": "stdout",
     "output_type": "stream",
     "text": [
      "['Sheela ', 'Sheela ', 'Queen', 'Queen', 'Peepa']\n"
     ]
    }
   ],
   "source": [
    "a=[]\n",
    "for i in range(0,5):\n",
    "    a.append(input())\n",
    "for i in range(0,5):\n",
    "    for j in range(0,5-i-1):\n",
    "        if a[i]<a[i+1]:\n",
    "            t=a[i]\n",
    "            a[i]=a[i+1]\n",
    "            a[i+1]=a[i]\n",
    "print(a)"
   ]
  },
  {
   "cell_type": "code",
   "execution_count": null,
   "metadata": {},
   "outputs": [],
   "source": []
  }
 ],
 "metadata": {
  "kernelspec": {
   "display_name": "Python 3",
   "language": "python",
   "name": "python3"
  },
  "language_info": {
   "codemirror_mode": {
    "name": "ipython",
    "version": 3
   },
   "file_extension": ".py",
   "mimetype": "text/x-python",
   "name": "python",
   "nbconvert_exporter": "python",
   "pygments_lexer": "ipython3",
   "version": "3.11.3"
  },
  "orig_nbformat": 4
 },
 "nbformat": 4,
 "nbformat_minor": 2
}
