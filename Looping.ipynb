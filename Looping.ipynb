{
 "cells": [
  {
   "cell_type": "code",
   "execution_count": 3,
   "metadata": {},
   "outputs": [
    {
     "name": "stdout",
     "output_type": "stream",
     "text": [
      "1,2,3,4,5,6,7,8,9,10,11,12,13,14,15,16,17,18,19,20,21,22,23,24,25,26,27,28,29,30,31,32,33,34,35,36,37,38,39,40,41,42,43,44,45,46,47,48,49,50,51,52,53,54,55,56,57,58,59,60,61,62,63,64,65,66,67,68,69,70,71,72,73,74,75,76,77,78,79,80,81,82,83,84,85,86,87,88,89,90,91,92,93,94,95,96,97,98,99,100,"
     ]
    }
   ],
   "source": [
    "n=int(input(\"Enter Limit\"))\n",
    "for i in range(1,n+1):\n",
    "    print(i,end=',')"
   ]
  },
  {
   "cell_type": "code",
   "execution_count": 5,
   "metadata": {},
   "outputs": [
    {
     "name": "stdout",
     "output_type": "stream",
     "text": [
      "500,499,498,497,496,495,494,493,492,491,490,489,488,487,486,485,484,483,482,481,480,479,478,477,476,475,474,473,472,471,470,469,468,467,466,465,464,463,462,461,460,459,458,457,456,455,454,453,452,451,450,449,448,447,446,445,444,443,442,441,440,439,438,437,436,435,434,433,432,431,430,429,428,427,426,425,424,423,422,421,420,419,418,417,416,415,414,413,412,411,410,409,408,407,406,405,404,403,402,401,400,399,398,397,396,395,394,393,392,391,390,389,388,387,386,385,384,383,382,381,380,379,378,377,376,375,374,373,372,371,370,369,368,367,366,365,364,363,362,361,360,359,358,357,356,355,354,353,352,351,350,349,348,347,346,345,344,343,342,341,340,339,338,337,336,335,334,333,332,331,330,329,328,327,326,325,324,323,322,321,320,319,318,317,316,315,314,313,312,311,310,309,308,307,306,305,304,303,302,301,300,299,298,297,296,295,294,293,292,291,290,289,288,287,286,285,284,283,282,281,280,279,278,277,276,275,274,273,272,271,270,269,268,267,266,265,264,263,262,261,260,259,258,257,256,255,254,253,252,251,250,249,248,247,246,245,244,243,242,241,240,239,238,237,236,235,234,233,232,231,230,229,228,227,226,225,224,223,222,221,220,219,218,217,216,215,214,213,212,211,210,209,208,207,206,205,204,203,202,201,200,199,198,197,196,195,194,193,192,191,190,189,188,187,186,185,184,183,182,181,180,179,178,177,176,175,174,173,172,171,170,169,168,167,166,165,164,163,162,161,160,159,158,157,156,155,154,153,152,151,150,149,148,147,146,145,144,143,142,141,140,139,138,137,136,135,134,133,132,131,130,129,128,127,126,125,124,123,122,121,120,119,118,117,116,115,114,113,112,111,110,109,108,107,106,105,104,103,102,101,100,99,98,97,96,95,94,93,92,91,90,89,88,87,86,85,84,83,82,81,80,79,78,77,76,75,74,73,72,71,70,69,68,67,66,65,64,63,62,61,60,59,58,57,56,55,54,53,52,51,50,49,48,47,46,45,44,43,42,41,40,39,38,37,36,35,34,33,32,31,30,29,28,27,26,25,24,23,22,21,20,19,18,17,16,15,14,13,12,11,10,9,8,7,6,5,4,3,2,1,"
     ]
    }
   ],
   "source": [
    "n=int(input(\"Ente the limit:\"))\n",
    "for i in range(n,0,-1):\n",
    "    print(i,end=',')"
   ]
  },
  {
   "cell_type": "code",
   "execution_count": 6,
   "metadata": {},
   "outputs": [
    {
     "name": "stdout",
     "output_type": "stream",
     "text": [
      "a,b,c,d,e,f,g,h,i,j,k,l,m,n,o,p,q,r,s,t,u,v,w,x,y,z,{,|,"
     ]
    }
   ],
   "source": [
    "#chr():returns ascii character of the value\n",
    "#ord():returns ascii value of the character\n",
    "for i in range(97,125):\n",
    "    print(chr(i),end=',')"
   ]
  },
  {
   "cell_type": "code",
   "execution_count": 7,
   "metadata": {},
   "outputs": [
    {
     "name": "stdout",
     "output_type": "stream",
     "text": [
      "2,4,6,8,10,12,14,16,18,20,22,24,26,28,30,32,34,36,38,40,42,44,46,48,50,52,54,56,58,60,62,64,66,68,70,72,74,76,78,80,82,84,86,88,90,92,94,96,98,"
     ]
    }
   ],
   "source": [
    "for i in range(2,100,2):\n",
    "    print(i,end=',')"
   ]
  },
  {
   "cell_type": "code",
   "execution_count": 8,
   "metadata": {},
   "outputs": [
    {
     "name": "stdout",
     "output_type": "stream",
     "text": [
      "1,3,5,7,9,11,13,15,17,19,21,23,25,27,29,31,33,35,37,39,41,43,45,47,49,51,53,55,57,59,61,63,65,67,69,71,73,75,77,79,81,83,85,87,89,91,93,95,97,99,"
     ]
    }
   ],
   "source": [
    "for i in range(1,100,2):\n",
    "    print(i,end=',')"
   ]
  },
  {
   "cell_type": "code",
   "execution_count": 9,
   "metadata": {},
   "outputs": [
    {
     "name": "stdout",
     "output_type": "stream",
     "text": [
      "319600\n"
     ]
    }
   ],
   "source": [
    "n=int(input(\"Enter limit\"))\n",
    "s=0\n",
    "for i in range(1,n):\n",
    "    s+=i\n",
    "print(s)"
   ]
  },
  {
   "cell_type": "code",
   "execution_count": 11,
   "metadata": {},
   "outputs": [
    {
     "name": "stdout",
     "output_type": "stream",
     "text": [
      "160000\n"
     ]
    }
   ],
   "source": [
    "n=int(input(\"Enter limit\"))\n",
    "s=0\n",
    "for i in range(1,n+1,2):\n",
    "    s+=i\n",
    "print(s)"
   ]
  },
  {
   "cell_type": "code",
   "execution_count": 12,
   "metadata": {},
   "outputs": [
    {
     "name": "stdout",
     "output_type": "stream",
     "text": [
      "160400\n"
     ]
    }
   ],
   "source": [
    "n=int(input(\"Enter limit\"))\n",
    "s=0\n",
    "for i in range(2,n+1,2):\n",
    "    s+=i\n",
    "print(s)"
   ]
  },
  {
   "cell_type": "code",
   "execution_count": 13,
   "metadata": {},
   "outputs": [
    {
     "name": "stdout",
     "output_type": "stream",
     "text": [
      "5  *  1  =  5\n",
      "5  *  2  =  10\n",
      "5  *  3  =  15\n",
      "5  *  4  =  20\n",
      "5  *  5  =  25\n",
      "5  *  6  =  30\n",
      "5  *  7  =  35\n",
      "5  *  8  =  40\n",
      "5  *  9  =  45\n",
      "5  *  10  =  50\n"
     ]
    }
   ],
   "source": [
    "n=int(input(\"Enter any Number:\"))\n",
    "for i in range(1,11):\n",
    "    print(n,\" * \",i,\" = \",n*i)"
   ]
  },
  {
   "cell_type": "code",
   "execution_count": 20,
   "metadata": {},
   "outputs": [
    {
     "name": "stdout",
     "output_type": "stream",
     "text": [
      "No of the digits of the number are: 3\n"
     ]
    }
   ],
   "source": [
    "n=int(input(\"Enter a number:\"))\n",
    "c=0\n",
    "while(n!=0):\n",
    "    c=c+1\n",
    "    n//=10\n",
    "print(\"No of the digits of the number are:\",c)"
   ]
  },
  {
   "cell_type": "code",
   "execution_count": 21,
   "metadata": {},
   "outputs": [
    {
     "name": "stdout",
     "output_type": "stream",
     "text": [
      "Last digit: 9\tFirst Digit 7\n"
     ]
    }
   ],
   "source": [
    "n=int(input(\"Enter a number\"))\n",
    "ls=n%10\n",
    "print(\"Last digit:\",ls,end='\\t')\n",
    "r=0\n",
    "while n!=0:\n",
    "    r=r*10+n%10\n",
    "    n//=10\n",
    "fr=r%10\n",
    "print(\"First Digit\",fr)"
   ]
  },
  {
   "cell_type": "code",
   "execution_count": 22,
   "metadata": {},
   "outputs": [
    {
     "name": "stdout",
     "output_type": "stream",
     "text": [
      "6\n"
     ]
    }
   ],
   "source": [
    "n=int(input(\"Enter number:\"))\n",
    "s=0\n",
    "while n!=0:\n",
    "    s+=n%10\n",
    "    n//=10\n",
    "print(s)"
   ]
  },
  {
   "cell_type": "code",
   "execution_count": 23,
   "metadata": {},
   "outputs": [
    {
     "name": "stdout",
     "output_type": "stream",
     "text": [
      "6\n"
     ]
    }
   ],
   "source": [
    "n=int(input(\"Enter number:\"))\n",
    "s=1\n",
    "while n!=0:\n",
    "    s*=n%10\n",
    "    n//=10\n",
    "print(s)"
   ]
  },
  {
   "cell_type": "code",
   "execution_count": 25,
   "metadata": {},
   "outputs": [
    {
     "name": "stdout",
     "output_type": "stream",
     "text": [
      "165\n"
     ]
    }
   ],
   "source": [
    "n=int(input(\"Enter number\"))\n",
    "r=0\n",
    "while n!=0:\n",
    "    r=r*10+n%10\n",
    "    n//=10\n",
    "print(r)"
   ]
  },
  {
   "cell_type": "code",
   "execution_count": 26,
   "metadata": {},
   "outputs": [
    {
     "name": "stdout",
     "output_type": "stream",
     "text": [
      "Palindrome Number\n"
     ]
    }
   ],
   "source": [
    "n=int(input(\"Enter number\"))\n",
    "r=0\n",
    "t=n\n",
    "while n!=0:\n",
    "    r=r*10+n%10\n",
    "    n//=10\n",
    "if t==r:\n",
    "    print(\"Palindrome Number\")\n",
    "else:\n",
    "    print(\"Not Palindrome\")"
   ]
  },
  {
   "cell_type": "code",
   "execution_count": 27,
   "metadata": {},
   "outputs": [
    {
     "name": "stdout",
     "output_type": "stream",
     "text": [
      "Frequency of the  1  is  1\n",
      "Frequency of the  2  is  1\n",
      "Frequency of the  7  is  2\n",
      "Frequency of the  9  is  2\n"
     ]
    }
   ],
   "source": [
    "n=int(input(\"Enter a Number\"))\n",
    "for i in range(0,10):\n",
    "    t=n\n",
    "    f=0\n",
    "    while t!=0:\n",
    "        if i==t%10:\n",
    "            f+=1\n",
    "        t//=10\n",
    "    if f:\n",
    "        print(\"Frequency of the \",i,\" is \",f)\n"
   ]
  },
  {
   "cell_type": "code",
   "execution_count": 29,
   "metadata": {},
   "outputs": [
    {
     "name": "stdout",
     "output_type": "stream",
     "text": [
      "In words: two hundred forty one\n"
     ]
    }
   ],
   "source": [
    "def number_to_words(number):\n",
    "    # Define word lists\n",
    "    units = ['zero', 'one', 'two', 'three', 'four', 'five', 'six', 'seven', 'eight', 'nine']\n",
    "    teens = ['ten', 'eleven', 'twelve', 'thirteen', 'fourteen', 'fifteen', 'sixteen',\n",
    "             'seventeen', 'eighteen', 'nineteen']\n",
    "    tens = ['twenty', 'thirty', 'forty', 'fifty', 'sixty', 'seventy', 'eighty', 'ninety']\n",
    "\n",
    "    if number < 0 or number > 9999:\n",
    "        return 'Number out of range'\n",
    "\n",
    "    if number == 0:\n",
    "        return units[0]\n",
    "\n",
    "    words = []\n",
    "    if number // 1000 > 0:\n",
    "        words.append(units[number // 1000] + ' thousand')\n",
    "        number %= 1000\n",
    "\n",
    "    if number // 100 > 0:\n",
    "        words.append(units[number // 100] + ' hundred')\n",
    "        number %= 100\n",
    "\n",
    "    if number // 10 > 1:\n",
    "        words.append(tens[number // 10 - 2])\n",
    "        number %= 10\n",
    "\n",
    "    if number > 0:\n",
    "        if number < 10:\n",
    "            words.append(units[number])\n",
    "        else:\n",
    "            words.append(teens[number - 10])\n",
    "\n",
    "    return ' '.join(words)\n",
    "\n",
    "\n",
    "# Main program\n",
    "num = int(input('Enter a number between 0 and 9999: '))\n",
    "result = number_to_words(num)\n",
    "print('In words:', result)\n"
   ]
  },
  {
   "cell_type": "code",
   "execution_count": 33,
   "metadata": {},
   "outputs": [
    {
     "name": "stdout",
     "output_type": "stream",
     "text": [
      "\u0001 = 1\n",
      "\u0002 = 2\n",
      "\u0003 = 3\n",
      "\u0004 = 4\n",
      "\u0005 = 5\n",
      "\u0006 = 6\n",
      "\u0007 = 7\n",
      "\b = 8\n",
      "\t = 9\n",
      "\n",
      " = 10\n",
      "\u000b = 11\n",
      "\f = 12\n",
      " = 13\n",
      "\u000e = 14\n",
      "\u000f = 15\n",
      "\u0010 = 16\n",
      "\u0011 = 17\n",
      "\u0012 = 18\n",
      "\u0013 = 19\n",
      "\u0014 = 20\n",
      "\u0015 = 21\n",
      "\u0016 = 22\n",
      "\u0017 = 23\n",
      "\u0018 = 24\n",
      "\u0019 = 25\n",
      "\u001a = 26\n",
      "\u001b = 27\n",
      "\u001c = 28\n",
      "\u001d = 29\n",
      "\u001e = 30\n",
      "\u001f = 31\n",
      "  = 32\n",
      "! = 33\n",
      "\" = 34\n",
      "# = 35\n",
      "$ = 36\n",
      "% = 37\n",
      "& = 38\n",
      "' = 39\n",
      "( = 40\n",
      ") = 41\n",
      "* = 42\n",
      "+ = 43\n",
      ", = 44\n",
      "- = 45\n",
      ". = 46\n",
      "/ = 47\n",
      "0 = 48\n",
      "1 = 49\n",
      "2 = 50\n",
      "3 = 51\n",
      "4 = 52\n",
      "5 = 53\n",
      "6 = 54\n",
      "7 = 55\n",
      "8 = 56\n",
      "9 = 57\n",
      ": = 58\n",
      "; = 59\n",
      "< = 60\n",
      "= = 61\n",
      "> = 62\n",
      "? = 63\n",
      "@ = 64\n",
      "A = 65\n",
      "B = 66\n",
      "C = 67\n",
      "D = 68\n",
      "E = 69\n",
      "F = 70\n",
      "G = 71\n",
      "H = 72\n",
      "I = 73\n",
      "J = 74\n",
      "K = 75\n",
      "L = 76\n",
      "M = 77\n",
      "N = 78\n",
      "O = 79\n",
      "P = 80\n",
      "Q = 81\n",
      "R = 82\n",
      "S = 83\n",
      "T = 84\n",
      "U = 85\n",
      "V = 86\n",
      "W = 87\n",
      "X = 88\n",
      "Y = 89\n",
      "Z = 90\n",
      "[ = 91\n",
      "\\ = 92\n",
      "] = 93\n",
      "^ = 94\n",
      "_ = 95\n",
      "` = 96\n",
      "a = 97\n",
      "b = 98\n",
      "c = 99\n",
      "d = 100\n",
      "e = 101\n",
      "f = 102\n",
      "g = 103\n",
      "h = 104\n",
      "i = 105\n",
      "j = 106\n",
      "k = 107\n",
      "l = 108\n",
      "m = 109\n",
      "n = 110\n",
      "o = 111\n",
      "p = 112\n",
      "q = 113\n",
      "r = 114\n",
      "s = 115\n",
      "t = 116\n",
      "u = 117\n",
      "v = 118\n",
      "w = 119\n",
      "x = 120\n",
      "y = 121\n",
      "z = 122\n",
      "{ = 123\n",
      "| = 124\n",
      "} = 125\n",
      "~ = 126\n",
      " = 127\n",
      " = 128\n",
      " = 129\n",
      " = 130\n",
      " = 131\n",
      " = 132\n",
      " = 133\n",
      " = 134\n",
      " = 135\n",
      " = 136\n",
      " = 137\n",
      " = 138\n",
      " = 139\n",
      " = 140\n",
      " = 141\n",
      " = 142\n",
      " = 143\n",
      " = 144\n",
      " = 145\n",
      " = 146\n",
      " = 147\n",
      " = 148\n",
      " = 149\n",
      " = 150\n",
      " = 151\n",
      " = 152\n",
      " = 153\n",
      " = 154\n",
      " = 155\n",
      " = 156\n",
      " = 157\n",
      " = 158\n",
      " = 159\n",
      "  = 160\n",
      "¡ = 161\n",
      "¢ = 162\n",
      "£ = 163\n",
      "¤ = 164\n",
      "¥ = 165\n",
      "¦ = 166\n",
      "§ = 167\n",
      "¨ = 168\n",
      "© = 169\n",
      "ª = 170\n",
      "« = 171\n",
      "¬ = 172\n",
      "­ = 173\n",
      "® = 174\n",
      "¯ = 175\n",
      "° = 176\n",
      "± = 177\n",
      "² = 178\n",
      "³ = 179\n",
      "´ = 180\n",
      "µ = 181\n",
      "¶ = 182\n",
      "· = 183\n",
      "¸ = 184\n",
      "¹ = 185\n",
      "º = 186\n",
      "» = 187\n",
      "¼ = 188\n",
      "½ = 189\n",
      "¾ = 190\n",
      "¿ = 191\n",
      "À = 192\n",
      "Á = 193\n",
      "Â = 194\n",
      "Ã = 195\n",
      "Ä = 196\n",
      "Å = 197\n",
      "Æ = 198\n",
      "Ç = 199\n"
     ]
    }
   ],
   "source": [
    "for i in range(1,200):\n",
    "    print(chr(i),\"=\",i)"
   ]
  },
  {
   "cell_type": "code",
   "execution_count": 37,
   "metadata": {},
   "outputs": [
    {
     "name": "stdout",
     "output_type": "stream",
     "text": [
      "2,3,5,7,11,13,17,19,23,29,31,37,41,43,47,53,59,61,67,71,73,79,83,89,97,101,103,107,109,113,127,131,137,139,149,151,157,163,167,173,179,181,191,193,197,199,211,223,227,229,233,239,241,251,257,263,269,271,277,281,283,293,307,311,313,317,331,337,347,349,353,359,367,373,379,383,389,397,401,409,419,421,431,433,439,443,449,457,461,463,467,479,487,491,499,503,509,521,523,541,547,557,563,569,571,577,587,593,599,601,607,613,617,619,631,641,643,647,653,659,661,673,677,683,691,"
     ]
    }
   ],
   "source": [
    "n=int(input(\"Enter limit:\"))\n",
    "for i in range(2,n+1):\n",
    "    c=0\n",
    "    for j in range(2,(i//2)+1):\n",
    "        if i%j==0:\n",
    "            c+=1\n",
    "            break\n",
    "    if(c==0):\n",
    "        print(i,end=',')"
   ]
  },
  {
   "cell_type": "code",
   "execution_count": 38,
   "metadata": {},
   "outputs": [
    {
     "name": "stdout",
     "output_type": "stream",
     "text": [
      "1,2,3,4,5,6,7,8,9,153,370,371,407,"
     ]
    }
   ],
   "source": [
    "n=int(input(\"Enter a number:\"))\n",
    "for i in range(1,n+1):\n",
    "    c=0\n",
    "    t=i\n",
    "    while t!=0:\n",
    "        c+=1\n",
    "        t//=10\n",
    "    t=i\n",
    "    s=0\n",
    "    while t!=0:\n",
    "        s+=(t%10)**c\n",
    "        t//=10\n",
    "    if s==i:\n",
    "        print(i,end=',')"
   ]
  },
  {
   "cell_type": "code",
   "execution_count": 39,
   "metadata": {},
   "outputs": [
    {
     "name": "stdout",
     "output_type": "stream",
     "text": [
      " * * * * *\n",
      " * * * * *\n",
      " * * * * *\n",
      " * * * * *\n",
      " * * * * *\n"
     ]
    }
   ],
   "source": [
    "for i in range(1,6):\n",
    "    print(' *'*5)"
   ]
  },
  {
   "cell_type": "code",
   "execution_count": 40,
   "metadata": {},
   "outputs": [
    {
     "name": "stdout",
     "output_type": "stream",
     "text": [
      " * * * * *\n",
      " *    *\n",
      " *    *\n",
      " *    *\n",
      " * * * * *\n"
     ]
    }
   ],
   "source": [
    "for i in range(1,6):\n",
    "    if i==1 or i==5:\n",
    "        print(' *'*5)\n",
    "    else:\n",
    "        print(' *',' ',' *')"
   ]
  },
  {
   "cell_type": "code",
   "execution_count": 42,
   "metadata": {},
   "outputs": [
    {
     "name": "stdout",
     "output_type": "stream",
     "text": [
      " * * * * *\n",
      " * * * *\n",
      " * * *\n",
      " * * * *\n",
      " * * * * *\n"
     ]
    }
   ],
   "source": [
    "for i in range(1,6):\n",
    "    if i==1 or i==5:\n",
    "        print(' *'*5)\n",
    "    elif i==2 or i==4:\n",
    "        print(' *'*4)\n",
    "    else:\n",
    "        print(' *'*3)"
   ]
  },
  {
   "cell_type": "code",
   "execution_count": 44,
   "metadata": {},
   "outputs": [
    {
     "name": "stdout",
     "output_type": "stream",
     "text": [
      "      * * * * *\n",
      "     * * * * *\n",
      "    * * * * *\n",
      "   * * * * *\n",
      "  * * * * *\n"
     ]
    }
   ],
   "source": [
    "x=5\n",
    "for i in range(0,5):\n",
    "    print(' '*x+' *'*5)\n",
    "    x-=1"
   ]
  },
  {
   "cell_type": "code",
   "execution_count": 46,
   "metadata": {},
   "outputs": [
    {
     "name": "stdout",
     "output_type": "stream",
     "text": [
      "      * * * * *\n",
      "     *   *\n",
      "    *   *\n",
      "   *   *\n",
      "  * * * * *\n"
     ]
    }
   ],
   "source": [
    "x=5\n",
    "for i in range(1,6):\n",
    "    if i==1 or i==5:\n",
    "        print(' '*x+' *'*5)\n",
    "    else:\n",
    "        print(' '*x+' *   *')\n",
    "    x-=1"
   ]
  },
  {
   "cell_type": "code",
   "execution_count": 47,
   "metadata": {},
   "outputs": [
    {
     "name": "stdout",
     "output_type": "stream",
     "text": [
      " * * * * *\n",
      "  * * * * *\n",
      "   * * * * *\n",
      "    * * * * *\n",
      "     * * * * *\n"
     ]
    }
   ],
   "source": [
    "x=0\n",
    "for i in range(0,5):\n",
    "    print(' '*x+' *'*5)\n",
    "    x+=1"
   ]
  },
  {
   "cell_type": "code",
   "execution_count": 48,
   "metadata": {},
   "outputs": [
    {
     "name": "stdout",
     "output_type": "stream",
     "text": [
      "  * * * * *\n",
      "   *   *\n",
      "    *   *\n",
      "     *   *\n",
      "      * * * * *\n"
     ]
    }
   ],
   "source": [
    "x=1\n",
    "for i in range(1,6):\n",
    "    if i==1 or i==5:\n",
    "        print(' '*x+' *'*5)\n",
    "    else:\n",
    "        print(' '*x+' *   *')\n",
    "    x+=1"
   ]
  },
  {
   "cell_type": "code",
   "execution_count": 49,
   "metadata": {},
   "outputs": [
    {
     "name": "stdout",
     "output_type": "stream",
     "text": [
      " *\n",
      " * *\n",
      " * * *\n",
      " * * * *\n",
      " * * * * *\n"
     ]
    }
   ],
   "source": [
    "for i in range(1,6):\n",
    "    print(' *'*i)"
   ]
  },
  {
   "cell_type": "code",
   "execution_count": 54,
   "metadata": {},
   "outputs": [
    {
     "name": "stdout",
     "output_type": "stream",
     "text": [
      " *\n",
      " * *\n",
      " *   *\n",
      " *     *\n",
      " * * * * *\n"
     ]
    }
   ],
   "source": [
    "for i in range(1,6):\n",
    "    if i==1 or i==5:\n",
    "        print(' *'*i)\n",
    "    else:\n",
    "        for j in range(1,i+1):\n",
    "            if j==1 or j==i:\n",
    "                print(' *',end='')\n",
    "            else:\n",
    "                print('  ',end='')\n",
    "        print()"
   ]
  },
  {
   "cell_type": "code",
   "execution_count": 59,
   "metadata": {},
   "outputs": [
    {
     "name": "stdout",
     "output_type": "stream",
     "text": [
      "     *\n",
      "    * *\n",
      "   * * *\n",
      "  * * * *\n",
      " * * * * *\n",
      "  * * * *\n",
      "   * * *\n",
      "    * *\n",
      "     *\n"
     ]
    }
   ],
   "source": [
    "for i in range(1,6):\n",
    "    print(' '*(5-i)+' *'*i)\n",
    "for i in range(1,5):\n",
    "    print(' '*i+' *'*(5-i))"
   ]
  }
 ],
 "metadata": {
  "kernelspec": {
   "display_name": "Python 3",
   "language": "python",
   "name": "python3"
  },
  "language_info": {
   "codemirror_mode": {
    "name": "ipython",
    "version": 3
   },
   "file_extension": ".py",
   "mimetype": "text/x-python",
   "name": "python",
   "nbconvert_exporter": "python",
   "pygments_lexer": "ipython3",
   "version": "3.11.3"
  },
  "orig_nbformat": 4
 },
 "nbformat": 4,
 "nbformat_minor": 2
}
